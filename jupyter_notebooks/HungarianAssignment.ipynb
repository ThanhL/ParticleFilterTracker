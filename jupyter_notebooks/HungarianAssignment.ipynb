{
 "cells": [
  {
   "cell_type": "markdown",
   "metadata": {},
   "source": [
    "# Hungarian Assignment\n",
    "This jupyter notebook is to test and verify hungarian assignment with a set of detections and particle means. The hungarian assignment algorithm will be used from scipy's optimize library: https://docs.scipy.org/doc/scipy-0.18.1/reference/generated/scipy.optimize.linear_sum_assignment.html"
   ]
  },
  {
   "cell_type": "code",
   "execution_count": 15,
   "metadata": {},
   "outputs": [],
   "source": [
    "### Libraries to Load ###\n",
    "import numpy as np\n",
    "import scipy\n",
    "import matplotlib.pyplot as plt\n",
    "\n",
    "from scipy.spatial import distance_matrix\n",
    "from scipy.optimize import linear_sum_assignment"
   ]
  },
  {
   "cell_type": "code",
   "execution_count": 25,
   "metadata": {},
   "outputs": [
    {
     "data": {
      "image/png": "[encoded data removed]",
      "text/plain": [
       "<Figure size 432x288 with 1 Axes>"
      ]
     },
     "metadata": {
      "needs_background": "light"
     },
     "output_type": "display_data"
    }
   ],
   "source": [
    "### Setup SIM params\n",
    "detection_centers = np.array([[-5, 7],\n",
    "                           [-2, -2],\n",
    "                           [3, -4],\n",
    "                           [6, 7]])\n",
    "particle_simulated_means = np.array([[-3, 6],\n",
    "                                    [-3,-3],\n",
    "                                    [3.5,6.5]])\n",
    "\n",
    "### Plot SIM setup\n",
    "xlim = (-10, 10)\n",
    "ylim = (-10, 10)\n",
    "plt.figure()\n",
    "plt.scatter(detection_centers[:,0],\n",
    "        detection_centers[:,1],\n",
    "        marker='s',\n",
    "        color='b')\n",
    "plt.scatter(particle_simulated_means[:,0],\n",
    "           particle_simulated_means[:,1],\n",
    "           color='r')\n",
    "plt.xlim(*xlim)\n",
    "plt.ylim(*ylim)\n",
    "plt.grid(True)"
   ]
  },
  {
   "cell_type": "code",
   "execution_count": 27,
   "metadata": {},
   "outputs": [
    {
     "name": "stdout",
     "output_type": "stream",
     "text": [
      "Detection matrix dimension:  (4, 2)\n",
      "Particle simulated mean matrix dimension:  (3, 2)\n",
      "Euclidean matrix shape:  (3, 4)\n",
      "[[ 2.23606798  8.06225775 11.66190379  9.05538514]\n",
      " [10.19803903  1.41421356  6.08276253 13.45362405]\n",
      " [ 8.51469318 10.12422837 10.51189802  2.54950976]]\n"
     ]
    }
   ],
   "source": [
    "### Hungarian assigment\n",
    "# Rows are workers\n",
    "# Col: Job\n",
    "# First we need to create an distance graph with every particle mean and every detection.\n",
    "# This will be the cost matrix for the hungarian assignment\n",
    "print(\"Detection matrix dimension: \", detection_centers.shape)\n",
    "print(\"Particle simulated mean matrix dimension: \", particle_simulated_means.shape)\n",
    "\n",
    "euclidean_distance_matrix = distance_matrix(particle_simulated_means, detection_centers)\n",
    "print(\"Euclidean matrix shape: \", euclidean_distance_matrix.shape)\n",
    "print(euclidean_distance_matrix)\n"
   ]
  },
  {
   "cell_type": "code",
   "execution_count": 37,
   "metadata": {},
   "outputs": [
    {
     "name": "stdout",
     "output_type": "stream",
     "text": [
      "Col ind:  [0 1 3]\n",
      "Optimal pairing: \n",
      "mean --> detection center\n",
      "[-3.  6.] --> [-5  7]\n",
      "[-3. -3.] --> [-2 -2]\n",
      "[3.5 6.5] --> [6 7]\n"
     ]
    }
   ],
   "source": [
    "## Time for the hungarian assignment\n",
    "# Pipe euclidean cost matrix into scipy hungarian assignment\n",
    "row_ind, col_ind = linear_sum_assignment(euclidean_distance_matrix)\n",
    "print(\"Col ind: \", col_ind)\n",
    "\n",
    "print(\"Optimal pairing: \")\n",
    "print(\"mean --> detection center\")\n",
    "\n",
    "for i in range(len(particle_simulated_means)):\n",
    "    print(particle_simulated_means[i], \"-->\", detection_centers[col_ind[i]])"
   ]
  },
  {
   "cell_type": "code",
   "execution_count": 63,
   "metadata": {},
   "outputs": [
    {
     "name": "stdout",
     "output_type": "stream",
     "text": [
      "Assigned Detection Centers: \n",
      " [[-5  7]\n",
      " [-2 -2]\n",
      " [ 6  7]]\n",
      "Detection Centers: \n",
      " [[-5  7]\n",
      " [-2 -2]\n",
      " [ 3 -4]\n",
      " [ 6  7]]\n",
      "Unassigned Detections: \n",
      " [[ 3 -4]]\n"
     ]
    }
   ],
   "source": [
    "assigned_detections = np.array([detection_centers[col_ind[i]] for i in range(len(col_ind))])\n",
    "print(\"Assigned Detection Centers: \\n\", assigned_detections)\n",
    "print(\"Detection Centers: \\n\", detection_centers)\n",
    "\n",
    "\n",
    "unassigned_detections = np.delete(detection_centers, col_ind, axis=0)\n",
    "print(\"Unassigned Detections: \\n\", unassigned_detections)\n",
    "\n",
    "def asvoid(arr):\n",
    "    \"\"\"\n",
    "    View the array as dtype np.void (bytes)\n",
    "    This views the last axis of ND-arrays as bytes so you can perform comparisons on\n",
    "    the entire row.\n",
    "    http://stackoverflow.com/a/16840350/190597 (Jaime, 2013-05)\n",
    "    Warning: When using asvoid for comparison, note that float zeros may compare UNEQUALLY\n",
    "    >>> asvoid([-0.]) == asvoid([0.])\n",
    "    array([False], dtype=bool)\n",
    "    \"\"\"\n",
    "    arr = np.ascontiguousarray(arr)\n",
    "    return arr.view(np.dtype((np.void, arr.dtype.itemsize * arr.shape[-1])))\n",
    "\n",
    "\n",
    "def in1d_index(a, b):\n",
    "    voida, voidb = map(asvoid, (a, b))\n",
    "    return np.where(np.in1d(voidb, voida))[0]    \n",
    "\n",
    "def ismember_rows(a, b):\n",
    "    '''Equivalent of 'ismember' from Matlab\n",
    "    a.shape = (nRows_a, nCol)\n",
    "    b.shape = (nRows_b, nCol)\n",
    "    return the idx where b[idx] == a\n",
    "    '''\n",
    "    return np.nonzero(np.all(b == a[:,np.newaxis], axis=2))[1]\n",
    "\n"
   ]
  },
  {
   "cell_type": "code",
   "execution_count": null,
   "metadata": {},
   "outputs": [],
   "source": []
  }
 ],
 "metadata": {
  "kernelspec": {
   "display_name": "Python 3",
   "language": "python",
   "name": "python3"
  },
  "language_info": {
   "codemirror_mode": {
    "name": "ipython",
    "version": 3
   },
   "file_extension": ".py",
   "mimetype": "text/x-python",
   "name": "python",
   "nbconvert_exporter": "python",
   "pygments_lexer": "ipython3",
   "version": "3.7.4"
  }
 },
 "nbformat": 4,
 "nbformat_minor": 2
}
